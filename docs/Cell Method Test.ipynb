{
 "cells": [
  {
   "cell_type": "code",
   "execution_count": 1,
   "metadata": {
    "collapsed": false
   },
   "outputs": [],
   "source": [
    "%run tabipy.py"
   ]
  },
  {
   "cell_type": "code",
   "execution_count": 2,
   "metadata": {
    "collapsed": false
   },
   "outputs": [
    {
     "data": {
      "text/html": [
       "<table>\n",
       "<tr><td  >1</td><td  >2</td><td  >3</td></tr>\n",
       "<tr><td  >4</td><td  >5</td><td  >6</td></tr>\n",
       "<tr><td  >7</td><td  >8</td><td  >9</td></tr>\n",
       "</table>"
      ],
      "text/latex": [
       "\\begin{tabular}{*{3}{l}}\n",
       "1 & 2 & 3\\\\\n",
       "\n",
       "4 & 5 & 6\\\\\n",
       "\n",
       "7 & 8 & 9\\\\\n",
       "\\end{tabular}"
      ],
      "text/plain": [
       "<__main__.Table at 0x7f8053e69320>"
      ]
     },
     "execution_count": 2,
     "metadata": {},
     "output_type": "execute_result"
    }
   ],
   "source": [
    "t = Table((1,2,3),\n",
    "          (4,5,6),\n",
    "          (7,8,9))\n",
    "t"
   ]
  },
  {
   "cell_type": "code",
   "execution_count": 3,
   "metadata": {
    "collapsed": false
   },
   "outputs": [
    {
     "data": {
      "text/html": [
       "<table>\n",
       "<tr><td colspan=\"2\"  >1</td><td  >3</td></tr>\n",
       "<tr><td  >4</td><td  >5</td><td  >6</td></tr>\n",
       "<tr><td  >7</td><td  >8</td><td  >9</td></tr>\n",
       "</table>"
      ],
      "text/latex": [
       "\\begin{tabular}{*{3}{l}}\n",
       "\\multicolumn{2}{l}{1} & 3\\\\\n",
       "\n",
       "4 & 5 & 6\\\\\n",
       "\n",
       "7 & 8 & 9\\\\\n",
       "\\end{tabular}"
      ],
      "text/plain": [
       "<__main__.Table at 0x7f8053e69320>"
      ]
     },
     "execution_count": 3,
     "metadata": {},
     "output_type": "execute_result"
    }
   ],
   "source": [
    "cell = t.cell(0,0)\n",
    "cell.col_span = 2\n",
    "t"
   ]
  },
  {
   "cell_type": "code",
   "execution_count": 4,
   "metadata": {
    "collapsed": false
   },
   "outputs": [
    {
     "name": "stdout",
     "output_type": "stream",
     "text": [
      "TableCell(1, col_span=2)\n"
     ]
    }
   ],
   "source": [
    "cell = t.cell(0,0)\n",
    "print(cell.__repr__())"
   ]
  },
  {
   "cell_type": "code",
   "execution_count": null,
   "metadata": {
    "collapsed": false
   },
   "outputs": [],
   "source": []
  }
 ],
 "metadata": {
  "kernelspec": {
   "display_name": "Python 3",
   "language": "python",
   "name": "python3"
  },
  "language_info": {
   "codemirror_mode": {
    "name": "ipython",
    "version": 3
   },
   "file_extension": ".py",
   "mimetype": "text/x-python",
   "name": "python",
   "nbconvert_exporter": "python",
   "pygments_lexer": "ipython3",
   "version": "3.4.0"
  }
 },
 "nbformat": 4,
 "nbformat_minor": 0
}
