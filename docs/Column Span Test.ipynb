{
 "cells": [
  {
   "cell_type": "code",
   "execution_count": 1,
   "metadata": {
    "collapsed": false
   },
   "outputs": [],
   "source": [
    "%run tabipy.py"
   ]
  },
  {
   "cell_type": "code",
   "execution_count": 2,
   "metadata": {
    "collapsed": false
   },
   "outputs": [
    {
     "data": {
      "text/html": [
       "<table>\n",
       "<tr><td  >1</td><td  >2</td><td  >3</td></tr>\n",
       "<tr><td  >4</td><td  >5</td><td  >6</td></tr>\n",
       "<tr><td  >7</td><td  >8</td><td  >9</td></tr>\n",
       "</table>"
      ],
      "text/latex": [
       "\\begin{tabular}{*{3}{l}}\n",
       "1 & 2 & 3\\\\\n",
       "\n",
       "4 & 5 & 6\\\\\n",
       "\n",
       "7 & 8 & 9\\\\\n",
       "\\end{tabular}"
      ],
      "text/plain": [
       "<__main__.Table at 0x7f16c0eab080>"
      ]
     },
     "execution_count": 2,
     "metadata": {},
     "output_type": "execute_result"
    }
   ],
   "source": [
    "t = Table((1,2,3),\n",
    "          (4,5,6),\n",
    "          (7,8,9))\n",
    "t"
   ]
  },
  {
   "cell_type": "code",
   "execution_count": 3,
   "metadata": {
    "collapsed": false
   },
   "outputs": [],
   "source": [
    "cell_1_1 = t.rows[0].cells[0]\n",
    "cell_1_1.col_span = 2"
   ]
  },
  {
   "cell_type": "code",
   "execution_count": 4,
   "metadata": {
    "collapsed": false
   },
   "outputs": [
    {
     "data": {
      "text/html": [
       "<table>\n",
       "<tr><td colspan=\"2\"  >1</td><td  >3</td></tr>\n",
       "<tr><td  >4</td><td  >5</td><td  >6</td></tr>\n",
       "<tr><td  >7</td><td  >8</td><td  >9</td></tr>\n",
       "</table>"
      ],
      "text/latex": [
       "\\begin{tabular}{*{3}{l}}\n",
       "\\multicolumn{2}{l}{1} & 3\\\\\n",
       "\n",
       "4 & 5 & 6\\\\\n",
       "\n",
       "7 & 8 & 9\\\\\n",
       "\\end{tabular}"
      ],
      "text/plain": [
       "<__main__.Table at 0x7f16c0eab080>"
      ]
     },
     "execution_count": 4,
     "metadata": {},
     "output_type": "execute_result"
    }
   ],
   "source": [
    "t"
   ]
  },
  {
   "cell_type": "code",
   "execution_count": 5,
   "metadata": {
    "collapsed": false
   },
   "outputs": [
    {
     "name": "stdout",
     "output_type": "stream",
     "text": [
      "<table>\n",
      "<tr><td colspan=\"2\"  >1</td><td  >3</td></tr>\n",
      "<tr><td  >4</td><td  >5</td><td  >6</td></tr>\n",
      "<tr><td  >7</td><td  >8</td><td  >9</td></tr>\n",
      "</table>\n"
     ]
    },
    {
     "data": {
      "text/plain": [
       "'<table>\\n<tr><td colspan=\"2\"  >1</td><td  >3</td></tr>\\n<tr><td  >4</td><td  >5</td><td  >6</td></tr>\\n<tr><td  >7</td><td  >8</td><td  >9</td></tr>\\n</table>'"
      ]
     },
     "execution_count": 5,
     "metadata": {},
     "output_type": "execute_result"
    }
   ],
   "source": [
    "t1_html = t._repr_html_()\n",
    "print(t1_html)\n",
    "t1_html"
   ]
  },
  {
   "cell_type": "code",
   "execution_count": 6,
   "metadata": {
    "collapsed": false
   },
   "outputs": [
    {
     "name": "stdout",
     "output_type": "stream",
     "text": [
      "\\begin{tabular}{*{3}{l}}\n",
      "\\multicolumn{2}{l}{1} & 3\\\\\n",
      "\n",
      "4 & 5 & 6\\\\\n",
      "\n",
      "7 & 8 & 9\\\\\n",
      "\\end{tabular}\n"
     ]
    }
   ],
   "source": [
    "t1_latex = t._repr_latex_()\n",
    "print(t1_latex)"
   ]
  },
  {
   "cell_type": "code",
   "execution_count": 7,
   "metadata": {
    "collapsed": false
   },
   "outputs": [
    {
     "data": {
      "text/plain": [
       "'\\\\begin{tabular}{*{3}{l}}\\n\\\\multicolumn{2}{l}{1} & 3\\\\\\\\\\n\\n4 & 5 & 6\\\\\\\\\\n\\n7 & 8 & 9\\\\\\\\\\n\\\\end{tabular}'"
      ]
     },
     "execution_count": 7,
     "metadata": {},
     "output_type": "execute_result"
    }
   ],
   "source": [
    "t1_latex"
   ]
  },
  {
   "cell_type": "code",
   "execution_count": 8,
   "metadata": {
    "collapsed": false
   },
   "outputs": [
    {
     "data": {
      "text/html": [
       "<table>\n",
       "<tr><td colspan=\"2\"  >1</td><td  >2</td><td  >3</td></tr>\n",
       "<tr><td  >4</td><td  >5</td><td  >6</td><td  >7</td></tr>\n",
       "<tr><td  >8</td><td  >9</td><td  >10</td><td  >11</td></tr>\n",
       "</table>"
      ],
      "text/latex": [
       "\\begin{tabular}{*{4}{l}}\n",
       "\\multicolumn{2}{l}{1} & 2 & 3\\\\\n",
       "\n",
       "4 & 5 & 6 & 7\\\\\n",
       "\n",
       "8 & 9 & 10 & 11\\\\\n",
       "\\end{tabular}"
      ],
      "text/plain": [
       "<__main__.Table at 0x7f16c0eabb38>"
      ]
     },
     "execution_count": 8,
     "metadata": {},
     "output_type": "execute_result"
    }
   ],
   "source": [
    "t = Table((TableCell(1,col_span=2),2,3),\n",
    "          (4,5,6,7),\n",
    "          (8,9,10,11))\n",
    "t"
   ]
  },
  {
   "cell_type": "code",
   "execution_count": 9,
   "metadata": {
    "collapsed": false
   },
   "outputs": [
    {
     "name": "stdout",
     "output_type": "stream",
     "text": [
      "\\begin{tabular}{*{4}{l}}\n",
      "\\multicolumn{2}{l}{1} & 2 & 3\\\\\n",
      "\n",
      "4 & 5 & 6 & 7\\\\\n",
      "\n",
      "8 & 9 & 10 & 11\\\\\n",
      "\\end{tabular}\n"
     ]
    }
   ],
   "source": [
    "print(t._repr_latex_())"
   ]
  },
  {
   "cell_type": "code",
   "execution_count": 10,
   "metadata": {
    "collapsed": false
   },
   "outputs": [],
   "source": [
    "r1 = t.rows[0]\n",
    "c1 = r1.cells[0]\n",
    "c1.col_span=1"
   ]
  },
  {
   "cell_type": "code",
   "execution_count": 11,
   "metadata": {
    "collapsed": false
   },
   "outputs": [
    {
     "data": {
      "text/html": [
       "<table>\n",
       "<tr><td  >1</td><td  ></td><td  >2</td><td  >3</td></tr>\n",
       "<tr><td  >4</td><td  >5</td><td  >6</td><td  >7</td></tr>\n",
       "<tr><td  >8</td><td  >9</td><td  >10</td><td  >11</td></tr>\n",
       "</table>"
      ],
      "text/latex": [
       "\\begin{tabular}{*{4}{l}}\n",
       "1 &  & 2 & 3\\\\\n",
       "\n",
       "4 & 5 & 6 & 7\\\\\n",
       "\n",
       "8 & 9 & 10 & 11\\\\\n",
       "\\end{tabular}"
      ],
      "text/plain": [
       "<__main__.Table at 0x7f16c0eabb38>"
      ]
     },
     "execution_count": 11,
     "metadata": {},
     "output_type": "execute_result"
    }
   ],
   "source": [
    "t"
   ]
  },
  {
   "cell_type": "code",
   "execution_count": 12,
   "metadata": {
    "collapsed": false
   },
   "outputs": [
    {
     "name": "stdout",
     "output_type": "stream",
     "text": [
      "<table>\n",
      "<tr><td  >1</td><td  ></td><td  >2</td><td  >3</td></tr>\n",
      "<tr><td  >4</td><td  >5</td><td  >6</td><td  >7</td></tr>\n",
      "<tr><td  >8</td><td  >9</td><td  >10</td><td  >11</td></tr>\n",
      "</table>\n"
     ]
    }
   ],
   "source": [
    "print(t._repr_html_())"
   ]
  },
  {
   "cell_type": "markdown",
   "metadata": {},
   "source": [
    "# Automated Tests"
   ]
  },
  {
   "cell_type": "code",
   "execution_count": 13,
   "metadata": {
    "collapsed": false
   },
   "outputs": [],
   "source": [
    "import re\n",
    "\n",
    "def col_span_table():\n",
    "    t = Table((1,2,3),\n",
    "      (4,5,6),\n",
    "      (7,8,9))\n",
    "    cell_1_1 = t.rows[0].cells[0]\n",
    "    cell_1_1.col_span = 2\n",
    "    return t\n",
    "\n",
    "def test_col_span_html():\n",
    "    \"This test col_span works in html\"\n",
    "    t = col_span_table()\n",
    "    t1_html = t._repr_html_()\n",
    "    row_split = re.compile('<\\s*tr\\s*>')\n",
    "    lines = row_split.split(t1_html)\n",
    "    assert len(lines)==4\n",
    "    col_split = re.compile('>[\\s\\d\\s]*<')\n",
    "    parts = col_split.split(lines[1])\n",
    "    cl_check = re.compile('colspan\\s*=\\s*\"\\s*2\\s*\"')\n",
    "    assert len(cl_check.findall(parts[0]))>0\n",
    "    #print(\"pass\")\n",
    "\n",
    "def test_col_span_latex():\n",
    "    \"This test col_span works in latex\"\n",
    "    t = col_span_table()    \n",
    "    t1_latex = t._repr_latex_()\n",
    "    row_split = re.compile(r'\\\\\\\\')\n",
    "    lines = row_split.split(t1_latex)\n",
    "    assert len(lines)==4\n",
    "    col_split = re.compile('&')\n",
    "    parts = col_split.split(lines[0])\n",
    "    cl_check = re.compile('\\w*\\\\multicolumn\\s*\\{\\s*2\\s*}')\n",
    "    assert len(cl_check.findall(parts[0]))>0\n",
    "    #print(\"pass\")\n",
    "    \n",
    "test_col_span_html()\n",
    "test_col_span_latex()"
   ]
  }
 ],
 "metadata": {
  "kernelspec": {
   "display_name": "Python 3",
   "language": "python",
   "name": "python3"
  },
  "language_info": {
   "codemirror_mode": {
    "name": "ipython",
    "version": 3
   },
   "file_extension": ".py",
   "mimetype": "text/x-python",
   "name": "python",
   "nbconvert_exporter": "python",
   "pygments_lexer": "ipython3",
   "version": "3.4.0"
  }
 },
 "nbformat": 4,
 "nbformat_minor": 0
}
