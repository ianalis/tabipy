{
 "cells": [
  {
   "cell_type": "code",
   "execution_count": 1,
   "metadata": {
    "collapsed": false
   },
   "outputs": [],
   "source": [
    "from tabipy import Table, TableRow, TableCell, TableHeaderRow"
   ]
  },
  {
   "cell_type": "markdown",
   "metadata": {},
   "source": [
    "This is a package to simply create tables to be displayed in IPython. The tables are rendered as both HTML and LaTeX, so they work both in the browser and if you convert the notebook to LaTeX.\n",
    "\n",
    "The simplest case is a plain grid:"
   ]
  },
  {
   "cell_type": "code",
   "execution_count": 2,
   "metadata": {
    "collapsed": false
   },
   "outputs": [
    {
     "data": {
      "text/html": [
       "<table>\n",
       "<tr><td  >4</td><td  >1</td><td  >8</td></tr>\n",
       "<tr><td  >9</td><td  >7</td><td  >3</td></tr>\n",
       "<tr><td  >5</td><td  >2</td><td  >6</td></tr>\n",
       "</table>"
      ],
      "text/latex": [
       "\\begin{tabular}{*{3}{l}}\n",
       "4 & 1 & 8\\\\\n",
       "\n",
       "9 & 7 & 3\\\\\n",
       "\n",
       "5 & 2 & 6\\\\\n",
       "\\end{tabular}"
      ],
      "text/plain": [
       "<tabipy.Table at 0x7eff1434d080>"
      ]
     },
     "execution_count": 2,
     "metadata": {},
     "output_type": "execute_result"
    }
   ],
   "source": [
    "Table((4, 1, 8),\n",
    "      (9, 7, 3),\n",
    "      (5, 2, 6))"
   ]
  },
  {
   "cell_type": "markdown",
   "metadata": {},
   "source": [
    "You can add a header row like this:"
   ]
  },
  {
   "cell_type": "code",
   "execution_count": 3,
   "metadata": {
    "collapsed": false
   },
   "outputs": [
    {
     "data": {
      "text/html": [
       "<table>\n",
       "<tr><th  >a</th><th  >b</th><th  >c</th></tr>\n",
       "<tr><td  >1</td><td  >2</td><td  >3</td></tr>\n",
       "<tr><td  >2</td><td  >4</td><td  >6</td></tr>\n",
       "</table>"
      ],
      "text/latex": [
       "\\begin{tabular}{*{3}{l}}\n",
       "\\hline\n",
       "\\bf a & \\bf b & \\bf c\\\\\n",
       "\\hline\n",
       "\n",
       "1 & 2 & 3\\\\\n",
       "\n",
       "2 & 4 & 6\\\\\n",
       "\\hline\n",
       "\\end{tabular}"
      ],
      "text/plain": [
       "<tabipy.Table at 0x7eff1434d7b8>"
      ]
     },
     "execution_count": 3,
     "metadata": {},
     "output_type": "execute_result"
    }
   ],
   "source": [
    "Table(TableHeaderRow('a','b','c'),\n",
    "      (1,  2,  3),\n",
    "      (2,  4,  6),\n",
    "     )"
   ]
  },
  {
   "cell_type": "markdown",
   "metadata": {},
   "source": [
    "`Table` also accepts `dict`s (or any mapping) with keys as column headers and values as column contents. The order of columns is undefined unless the mapping is an `OrderedDict`."
   ]
  },
  {
   "cell_type": "code",
   "execution_count": 4,
   "metadata": {
    "collapsed": false
   },
   "outputs": [
    {
     "data": {
      "text/html": [
       "<table>\n",
       "<tr><th  >a</th><th  >b</th><th  >c</th></tr>\n",
       "<tr><td  >1</td><td  >2</td><td  >3</td></tr>\n",
       "<tr><td  >2</td><td  >4</td><td  >6</td></tr>\n",
       "</table>"
      ],
      "text/latex": [
       "\\begin{tabular}{*{3}{l}}\n",
       "\\hline\n",
       "\\bf a & \\bf b & \\bf c\\\\\n",
       "\\hline\n",
       "\n",
       "1 & 2 & 3\\\\\n",
       "\n",
       "2 & 4 & 6\\\\\n",
       "\\hline\n",
       "\\end{tabular}"
      ],
      "text/plain": [
       "<tabipy.Table at 0x7eff1434d470>"
      ]
     },
     "execution_count": 4,
     "metadata": {},
     "output_type": "execute_result"
    }
   ],
   "source": [
    "Table({'a': (1, 2),\n",
    "       'b': (2, 4),\n",
    "       'c': (3, 6)})"
   ]
  },
  {
   "cell_type": "markdown",
   "metadata": {},
   "source": [
    "The number of column values (rows) need not be equal:"
   ]
  },
  {
   "cell_type": "code",
   "execution_count": 5,
   "metadata": {
    "collapsed": false
   },
   "outputs": [
    {
     "data": {
      "text/html": [
       "<table>\n",
       "<tr><th  >a</th><th  >b</th><th  >c</th></tr>\n",
       "<tr><td  >1</td><td  >2</td><td  >3</td></tr>\n",
       "<tr><td  >2</td><td  ></td><td  >6</td></tr>\n",
       "</table>"
      ],
      "text/latex": [
       "\\begin{tabular}{*{3}{l}}\n",
       "\\hline\n",
       "\\bf a & \\bf b & \\bf c\\\\\n",
       "\\hline\n",
       "\n",
       "1 & 2 & 3\\\\\n",
       "\n",
       "2 &  & 6\\\\\n",
       "\\hline\n",
       "\\end{tabular}"
      ],
      "text/plain": [
       "<tabipy.Table at 0x7eff1434d048>"
      ]
     },
     "execution_count": 5,
     "metadata": {},
     "output_type": "execute_result"
    }
   ],
   "source": [
    "Table({'a': (1, 2),\n",
    "       'b': (2,),\n",
    "       'c': (3, 6)})"
   ]
  },
  {
   "cell_type": "markdown",
   "metadata": {},
   "source": [
    "You can build a table incrementally using `Table.append_row()`. If you need it, rows also have an `append_cell()` method."
   ]
  },
  {
   "cell_type": "code",
   "execution_count": 6,
   "metadata": {
    "collapsed": false
   },
   "outputs": [
    {
     "data": {
      "text/html": [
       "<table>\n",
       "<tr><th  >number</th><th  >square</th><th  >cube</th></tr>\n",
       "<tr><td  >1</td><td  >1</td><td  >1</td></tr>\n",
       "<tr><td  >2</td><td  >4</td><td  >8</td></tr>\n",
       "<tr><td  >3</td><td  >9</td><td  >27</td></tr>\n",
       "<tr><td  >4</td><td  >16</td><td  >64</td></tr>\n",
       "<tr><td  >5</td><td  >25</td><td  >125</td></tr>\n",
       "<tr><td  >6</td><td  >36</td><td  >216</td></tr>\n",
       "<tr><td  >7</td><td  >49</td><td  >343</td></tr>\n",
       "<tr><td  >8</td><td  >64</td><td  >512</td></tr>\n",
       "<tr><td  >9</td><td  >81</td><td  >729</td></tr>\n",
       "<tr><td  >10</td><td  >100</td><td  >1000</td></tr>\n",
       "</table>"
      ],
      "text/latex": [
       "\\begin{tabular}{*{3}{l}}\n",
       "\\hline\n",
       "\\bf number & \\bf square & \\bf cube\\\\\n",
       "\\hline\n",
       "\n",
       "1 & 1 & 1\\\\\n",
       "\n",
       "2 & 4 & 8\\\\\n",
       "\n",
       "3 & 9 & 27\\\\\n",
       "\n",
       "4 & 16 & 64\\\\\n",
       "\n",
       "5 & 25 & 125\\\\\n",
       "\n",
       "6 & 36 & 216\\\\\n",
       "\n",
       "7 & 49 & 343\\\\\n",
       "\n",
       "8 & 64 & 512\\\\\n",
       "\n",
       "9 & 81 & 729\\\\\n",
       "\n",
       "10 & 100 & 1000\\\\\n",
       "\\hline\n",
       "\\end{tabular}"
      ],
      "text/plain": [
       "<tabipy.Table at 0x7eff14356588>"
      ]
     },
     "execution_count": 6,
     "metadata": {},
     "output_type": "execute_result"
    }
   ],
   "source": [
    "# Computing values\n",
    "t = Table(TableHeaderRow('number', 'square', 'cube'))\n",
    "for x in range(1, 11):\n",
    "    t.append_row((x, x**2, x**3))\n",
    "t"
   ]
  },
  {
   "cell_type": "markdown",
   "metadata": {},
   "source": [
    "You can style cells with the `bg_colour` and `text_colour` parameters. This only works in HTML for the moment; if you convert the notebook to LaTeX, the colours will be ignored."
   ]
  },
  {
   "cell_type": "code",
   "execution_count": 7,
   "metadata": {
    "collapsed": false
   },
   "outputs": [
    {
     "data": {
      "text/html": [
       "<table>\n",
       "<tr><th  >divisions</th><th  >result</th></tr>\n",
       "<tr><td  >0</td><td  >55</td></tr>\n",
       "<tr><td  >1</td><td  >18.333333333333332</td></tr>\n",
       "<tr><td  >2</td><td  >6.111111111111111</td></tr>\n",
       "<tr><td  >3</td><td  >2.0370370370370368</td></tr>\n",
       "<tr><td  >4</td><td  style=\"background-color:DarkBlue; color:white\">0.6790123456790123</td></tr>\n",
       "<tr><td  >5</td><td  style=\"background-color:DarkBlue; color:white\">0.22633744855967075</td></tr>\n",
       "<tr><td  >6</td><td  style=\"background-color:DarkBlue; color:white\">0.07544581618655692</td></tr>\n",
       "</table>"
      ],
      "text/latex": [
       "\\begin{tabular}{*{2}{l}}\n",
       "\\hline\n",
       "\\bf divisions & \\bf result\\\\\n",
       "\\hline\n",
       "\n",
       "0 & 55\\\\\n",
       "\n",
       "1 & 18.333333333333332\\\\\n",
       "\n",
       "2 & 6.111111111111111\\\\\n",
       "\n",
       "3 & 2.0370370370370368\\\\\n",
       "\n",
       "4 & 0.6790123456790123\\\\\n",
       "\n",
       "5 & 0.22633744855967075\\\\\n",
       "\n",
       "6 & 0.07544581618655692\\\\\n",
       "\\hline\n",
       "\\end{tabular}"
      ],
      "text/plain": [
       "<tabipy.Table at 0x7eff14359cf8>"
      ]
     },
     "execution_count": 7,
     "metadata": {},
     "output_type": "execute_result"
    }
   ],
   "source": [
    "# Styling determined by code\n",
    "t = Table(TableHeaderRow('divisions', 'result'))\n",
    "num = 55\n",
    "for x in range(7):\n",
    "    if num < 1:\n",
    "        resultcell = TableCell(num, bg_colour='DarkBlue', text_colour='white')\n",
    "    else:\n",
    "        resultcell = TableCell(num)\n",
    "    t.append_row((x, resultcell))\n",
    "    num /= 3\n",
    "t"
   ]
  }
 ],
 "metadata": {
  "kernelspec": {
   "display_name": "Python 3",
   "language": "python",
   "name": "python3"
  },
  "language_info": {
   "codemirror_mode": {
    "name": "ipython",
    "version": 3
   },
   "file_extension": ".py",
   "mimetype": "text/x-python",
   "name": "python",
   "nbconvert_exporter": "python",
   "pygments_lexer": "ipython3",
   "version": "3.4.0"
  }
 },
 "nbformat": 4,
 "nbformat_minor": 0
}
